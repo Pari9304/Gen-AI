{
 "cells": [
  {
   "cell_type": "markdown",
   "id": "c8ad754a-5a8a-44f9-8b39-7683e99e4104",
   "metadata": {
    "id": "c8ad754a-5a8a-44f9-8b39-7683e99e4104"
   },
   "source": [
    "# 1.Create a Doc object from the file peterrabbit.txt"
   ]
  },
  {
   "cell_type": "code",
   "execution_count": null,
   "id": "374a3046-9e8f-4c10-ab1e-8d3795c81d73",
   "metadata": {
    "id": "374a3046-9e8f-4c10-ab1e-8d3795c81d73"
   },
   "outputs": [],
   "source": [
    "#priti\n",
    "import spacy\n",
    "nlp = spacy.load(\"en_core_web_sm\")"
   ]
  },
  {
   "cell_type": "code",
   "execution_count": null,
   "id": "4d130777-fdf8-4a5d-9b2c-11e6100d2264",
   "metadata": {
    "id": "4d130777-fdf8-4a5d-9b2c-11e6100d2264"
   },
   "outputs": [],
   "source": [
    "# Read the contents of the file\n",
    "with open('peterrabbit.txt', 'r') as file:\n",
    "    text = file.read()"
   ]
  },
  {
   "cell_type": "code",
   "execution_count": null,
   "id": "6aaddf42-6264-4a68-b611-c9bd49705d4e",
   "metadata": {
    "id": "6aaddf42-6264-4a68-b611-c9bd49705d4e"
   },
   "outputs": [],
   "source": [
    "# Create a Doc object\n",
    "doc = nlp(text)"
   ]
  },
  {
   "cell_type": "markdown",
   "id": "285450e0-02a5-42b6-91b5-51d943220f14",
   "metadata": {
    "id": "285450e0-02a5-42b6-91b5-51d943220f14"
   },
   "source": [
    "# 2. For every token in the third sentence, print the token text, the POS tag, the fine-grained TAG tag, and the description of the fine-grained tag\n"
   ]
  },
  {
   "cell_type": "code",
   "execution_count": null,
   "id": "b831fbe4-d71a-47ba-a272-98d69e1b00c3",
   "metadata": {
    "id": "b831fbe4-d71a-47ba-a272-98d69e1b00c3",
    "outputId": "3b0c15a5-6262-4475-a48f-cbbcec0f0634"
   },
   "outputs": [
    {
     "name": "stdout",
     "output_type": "stream",
     "text": [
      "Token Details from Third Sentence:\n",
      "Text: They, POS: PRON, TAG: PRP, Description: pronoun, personal\n",
      "Text: lived, POS: VERB, TAG: VBD, Description: verb, past tense\n",
      "Text: with, POS: ADP, TAG: IN, Description: conjunction, subordinating or preposition\n",
      "Text: their, POS: PRON, TAG: PRP$, Description: pronoun, possessive\n",
      "Text: Mother, POS: PROPN, TAG: NNP, Description: noun, proper singular\n",
      "Text: in, POS: ADP, TAG: IN, Description: conjunction, subordinating or preposition\n",
      "Text: a, POS: DET, TAG: DT, Description: determiner\n",
      "Text: sand, POS: NOUN, TAG: NN, Description: noun, singular or mass\n",
      "Text: -, POS: PUNCT, TAG: HYPH, Description: punctuation mark, hyphen\n",
      "Text: bank, POS: NOUN, TAG: NN, Description: noun, singular or mass\n",
      "Text: ,, POS: PUNCT, TAG: ,, Description: punctuation mark, comma\n",
      "Text: underneath, POS: ADP, TAG: IN, Description: conjunction, subordinating or preposition\n",
      "Text: the, POS: DET, TAG: DT, Description: determiner\n",
      "Text: root, POS: NOUN, TAG: NN, Description: noun, singular or mass\n",
      "Text: of, POS: ADP, TAG: IN, Description: conjunction, subordinating or preposition\n",
      "Text: a, POS: DET, TAG: DT, Description: determiner\n",
      "Text: \n",
      ", POS: SPACE, TAG: _SP, Description: whitespace\n",
      "Text: very, POS: ADV, TAG: RB, Description: adverb\n",
      "Text: big, POS: ADJ, TAG: JJ, Description: adjective (English), other noun-modifier (Chinese)\n",
      "Text: fir, POS: NOUN, TAG: NN, Description: noun, singular or mass\n",
      "Text: -, POS: PUNCT, TAG: HYPH, Description: punctuation mark, hyphen\n",
      "Text: tree, POS: NOUN, TAG: NN, Description: noun, singular or mass\n",
      "Text: ., POS: PUNCT, TAG: ., Description: punctuation mark, sentence closer\n",
      "Text: \n",
      "\n",
      ", POS: SPACE, TAG: _SP, Description: whitespace\n"
     ]
    }
   ],
   "source": [
    "# Selecting the third sentence from the document\n",
    "third_sentence = list(doc.sents)[2]\n",
    "\n",
    "# Printing token details from the third sentence\n",
    "print(\"Token Details from Third Sentence:\")\n",
    "for token in third_sentence:\n",
    "    print(f\"Text: {token.text}, POS: {token.pos_}, TAG: {token.tag_}, Description: {spacy.explain(token.tag_)}\")"
   ]
  },
  {
   "cell_type": "markdown",
   "id": "db277f43-0bc8-4493-9bdc-f4f029b19440",
   "metadata": {
    "id": "db277f43-0bc8-4493-9bdc-f4f029b19440"
   },
   "source": [
    "# 3. Provide a frequency list of POS tags from the entire document."
   ]
  },
  {
   "cell_type": "code",
   "execution_count": null,
   "id": "e683632e-e05d-444d-a8cd-ec2780537a39",
   "metadata": {
    "id": "e683632e-e05d-444d-a8cd-ec2780537a39",
    "outputId": "43d6c548-974c-4324-a285-c595fa579577"
   },
   "outputs": [
    {
     "name": "stdout",
     "output_type": "stream",
     "text": [
      "\n",
      "POS Tag Frequency in Document:\n",
      "DET: 90\n",
      "PROPN: 75\n",
      "ADP: 124\n",
      "PUNCT: 172\n",
      "NUM: 8\n",
      "SPACE: 99\n",
      "ADV: 65\n",
      "SCONJ: 20\n",
      "NOUN: 173\n",
      "PRON: 108\n",
      "VERB: 131\n",
      "ADJ: 54\n",
      "CCONJ: 61\n",
      "AUX: 50\n",
      "PART: 28\n"
     ]
    }
   ],
   "source": [
    "from collections import Counter\n",
    "\n",
    "# Counting occurrences of POS tags in the document\n",
    "pos_counts = Counter([token.pos_ for token in doc])\n",
    "\n",
    "# Printing the frequency list of POS tags\n",
    "print(\"\\nPOS Tag Frequency in Document:\")\n",
    "for pos, count in pos_counts.items():\n",
    "    print(f\"{pos}: {count}\")"
   ]
  },
  {
   "cell_type": "markdown",
   "id": "90779138-a0ef-431d-89e0-e238f688b502",
   "metadata": {
    "id": "90779138-a0ef-431d-89e0-e238f688b502"
   },
   "source": [
    "# 4. CHALLENGE: What percentage of tokens are nouns."
   ]
  },
  {
   "cell_type": "code",
   "execution_count": null,
   "id": "79bd43e6-100c-4043-a0ee-d24ffc3d4e08",
   "metadata": {
    "id": "79bd43e6-100c-4043-a0ee-d24ffc3d4e08",
    "outputId": "0e1d1e74-2e50-4589-9e9e-809e0893fd3b"
   },
   "outputs": [
    {
     "name": "stdout",
     "output_type": "stream",
     "text": [
      "Percentage of tokens that are nouns: 13.75%\n"
     ]
    }
   ],
   "source": [
    "num_nouns = sum(1 for token in doc if token.pos_ == \"NOUN\")\n",
    "total_tokens = len(doc)\n",
    "percentage_nouns = (num_nouns / total_tokens) * 100\n",
    "\n",
    "print(f\"Percentage of tokens that are nouns: {percentage_nouns:.2f}%\")"
   ]
  },
  {
   "cell_type": "markdown",
   "id": "fda7dc2b-3ad9-463a-99b4-1446fc0b015a",
   "metadata": {
    "id": "fda7dc2b-3ad9-463a-99b4-1446fc0b015a"
   },
   "source": [
    "# 5. Display the Dependency Parse for the third sentence"
   ]
  },
  {
   "cell_type": "code",
   "execution_count": null,
   "id": "8794292a-6061-4344-8045-68cc0d162ca0",
   "metadata": {
    "id": "8794292a-6061-4344-8045-68cc0d162ca0",
    "outputId": "0c894261-8461-4a8c-ca18-623a11c2ebff"
   },
   "outputs": [
    {
     "name": "stdout",
     "output_type": "stream",
     "text": [
      "Dependency Parse for Third Sentence:\n",
      "They -> nsubj -> lived\n",
      "lived -> ROOT -> lived\n",
      "with -> prep -> lived\n",
      "their -> poss -> Mother\n",
      "Mother -> pobj -> with\n",
      "in -> prep -> lived\n",
      "a -> det -> bank\n",
      "sand -> compound -> bank\n",
      "- -> punct -> bank\n",
      "bank -> pobj -> in\n",
      ", -> punct -> bank\n",
      "underneath -> prep -> bank\n",
      "the -> det -> root\n",
      "root -> pobj -> underneath\n",
      "of -> prep -> root\n",
      "a -> det -> tree\n",
      "\n",
      " -> dep -> a\n",
      "very -> advmod -> big\n",
      "big -> amod -> tree\n",
      "fir -> compound -> tree\n",
      "- -> punct -> tree\n",
      "tree -> pobj -> of\n",
      ". -> punct -> lived\n",
      "\n",
      "\n",
      " -> dep -> .\n"
     ]
    }
   ],
   "source": [
    "# Selecting the third sentence from the document\n",
    "third_sentence = list(doc.sents)[2]\n",
    "\n",
    "# Printing dependency relations for each token in the third sentence\n",
    "print(\"Dependency Parse for Third Sentence:\")\n",
    "for token in third_sentence:\n",
    "    print(f\"{token.text} -> {token.dep_} -> {token.head.text}\")"
   ]
  },
  {
   "cell_type": "code",
   "execution_count": null,
   "id": "76cb7cce-f9ae-4e8e-aca5-b7ca75d7d7d3",
   "metadata": {
    "id": "76cb7cce-f9ae-4e8e-aca5-b7ca75d7d7d3",
    "outputId": "23f98a16-2c6c-4565-e3ce-76b16930ca2e"
   },
   "outputs": [
    {
     "ename": "SyntaxError",
     "evalue": "invalid non-printable character U+00A0 (2575559716.py, line 4)",
     "output_type": "error",
     "traceback": [
      "\u001b[1;36m  Cell \u001b[1;32mIn[19], line 4\u001b[1;36m\u001b[0m\n\u001b[1;33m    spacy.displacy.render(third_sentence, style=\"dep\", jupyter=True)\u001b[0m\n\u001b[1;37m                                                      ^\u001b[0m\n\u001b[1;31mSyntaxError\u001b[0m\u001b[1;31m:\u001b[0m invalid non-printable character U+00A0\n"
     ]
    }
   ],
   "source": [
    "Display the Dependency Parse for the third sentence\n",
    "import spacy.displacy\n",
    "\n",
    "spacy.displacy.render(third_sentence, style=\"dep\", jupyter=True)"
   ]
  },
  {
   "cell_type": "code",
   "execution_count": null,
   "id": "87e96267-e84c-409e-a658-737e6ef21616",
   "metadata": {
    "id": "87e96267-e84c-409e-a658-737e6ef21616",
    "outputId": "5ad07c7e-be6f-40c9-b0f6-91ab841dd534"
   },
   "outputs": [
    {
     "data": {
      "text/html": [
       "<span class=\"tex2jax_ignore\"><svg xmlns=\"http://www.w3.org/2000/svg\" xmlns:xlink=\"http://www.w3.org/1999/xlink\" xml:lang=\"en\" id=\"be704581da574e7395961100f967c2a7-0\" class=\"displacy\" width=\"3550\" height=\"487.0\" direction=\"ltr\" style=\"max-width: none; height: 487.0px; color: #000000; background: #ffffff; font-family: Arial; direction: ltr\">\n",
       "<text class=\"displacy-token\" fill=\"currentColor\" text-anchor=\"middle\" y=\"397.0\">\n",
       "    <tspan class=\"displacy-word\" fill=\"currentColor\" x=\"50\">They</tspan>\n",
       "    <tspan class=\"displacy-tag\" dy=\"2em\" fill=\"currentColor\" x=\"50\">PRON</tspan>\n",
       "</text>\n",
       "\n",
       "<text class=\"displacy-token\" fill=\"currentColor\" text-anchor=\"middle\" y=\"397.0\">\n",
       "    <tspan class=\"displacy-word\" fill=\"currentColor\" x=\"225\">lived</tspan>\n",
       "    <tspan class=\"displacy-tag\" dy=\"2em\" fill=\"currentColor\" x=\"225\">VERB</tspan>\n",
       "</text>\n",
       "\n",
       "<text class=\"displacy-token\" fill=\"currentColor\" text-anchor=\"middle\" y=\"397.0\">\n",
       "    <tspan class=\"displacy-word\" fill=\"currentColor\" x=\"400\">with</tspan>\n",
       "    <tspan class=\"displacy-tag\" dy=\"2em\" fill=\"currentColor\" x=\"400\">ADP</tspan>\n",
       "</text>\n",
       "\n",
       "<text class=\"displacy-token\" fill=\"currentColor\" text-anchor=\"middle\" y=\"397.0\">\n",
       "    <tspan class=\"displacy-word\" fill=\"currentColor\" x=\"575\">their</tspan>\n",
       "    <tspan class=\"displacy-tag\" dy=\"2em\" fill=\"currentColor\" x=\"575\">PRON</tspan>\n",
       "</text>\n",
       "\n",
       "<text class=\"displacy-token\" fill=\"currentColor\" text-anchor=\"middle\" y=\"397.0\">\n",
       "    <tspan class=\"displacy-word\" fill=\"currentColor\" x=\"750\">Mother</tspan>\n",
       "    <tspan class=\"displacy-tag\" dy=\"2em\" fill=\"currentColor\" x=\"750\">PROPN</tspan>\n",
       "</text>\n",
       "\n",
       "<text class=\"displacy-token\" fill=\"currentColor\" text-anchor=\"middle\" y=\"397.0\">\n",
       "    <tspan class=\"displacy-word\" fill=\"currentColor\" x=\"925\">in</tspan>\n",
       "    <tspan class=\"displacy-tag\" dy=\"2em\" fill=\"currentColor\" x=\"925\">ADP</tspan>\n",
       "</text>\n",
       "\n",
       "<text class=\"displacy-token\" fill=\"currentColor\" text-anchor=\"middle\" y=\"397.0\">\n",
       "    <tspan class=\"displacy-word\" fill=\"currentColor\" x=\"1100\">a</tspan>\n",
       "    <tspan class=\"displacy-tag\" dy=\"2em\" fill=\"currentColor\" x=\"1100\">DET</tspan>\n",
       "</text>\n",
       "\n",
       "<text class=\"displacy-token\" fill=\"currentColor\" text-anchor=\"middle\" y=\"397.0\">\n",
       "    <tspan class=\"displacy-word\" fill=\"currentColor\" x=\"1275\">sand-</tspan>\n",
       "    <tspan class=\"displacy-tag\" dy=\"2em\" fill=\"currentColor\" x=\"1275\">NOUN</tspan>\n",
       "</text>\n",
       "\n",
       "<text class=\"displacy-token\" fill=\"currentColor\" text-anchor=\"middle\" y=\"397.0\">\n",
       "    <tspan class=\"displacy-word\" fill=\"currentColor\" x=\"1450\">bank,</tspan>\n",
       "    <tspan class=\"displacy-tag\" dy=\"2em\" fill=\"currentColor\" x=\"1450\">NOUN</tspan>\n",
       "</text>\n",
       "\n",
       "<text class=\"displacy-token\" fill=\"currentColor\" text-anchor=\"middle\" y=\"397.0\">\n",
       "    <tspan class=\"displacy-word\" fill=\"currentColor\" x=\"1625\">underneath</tspan>\n",
       "    <tspan class=\"displacy-tag\" dy=\"2em\" fill=\"currentColor\" x=\"1625\">ADP</tspan>\n",
       "</text>\n",
       "\n",
       "<text class=\"displacy-token\" fill=\"currentColor\" text-anchor=\"middle\" y=\"397.0\">\n",
       "    <tspan class=\"displacy-word\" fill=\"currentColor\" x=\"1800\">the</tspan>\n",
       "    <tspan class=\"displacy-tag\" dy=\"2em\" fill=\"currentColor\" x=\"1800\">DET</tspan>\n",
       "</text>\n",
       "\n",
       "<text class=\"displacy-token\" fill=\"currentColor\" text-anchor=\"middle\" y=\"397.0\">\n",
       "    <tspan class=\"displacy-word\" fill=\"currentColor\" x=\"1975\">root</tspan>\n",
       "    <tspan class=\"displacy-tag\" dy=\"2em\" fill=\"currentColor\" x=\"1975\">NOUN</tspan>\n",
       "</text>\n",
       "\n",
       "<text class=\"displacy-token\" fill=\"currentColor\" text-anchor=\"middle\" y=\"397.0\">\n",
       "    <tspan class=\"displacy-word\" fill=\"currentColor\" x=\"2150\">of</tspan>\n",
       "    <tspan class=\"displacy-tag\" dy=\"2em\" fill=\"currentColor\" x=\"2150\">ADP</tspan>\n",
       "</text>\n",
       "\n",
       "<text class=\"displacy-token\" fill=\"currentColor\" text-anchor=\"middle\" y=\"397.0\">\n",
       "    <tspan class=\"displacy-word\" fill=\"currentColor\" x=\"2325\">a</tspan>\n",
       "    <tspan class=\"displacy-tag\" dy=\"2em\" fill=\"currentColor\" x=\"2325\">DET</tspan>\n",
       "</text>\n",
       "\n",
       "<text class=\"displacy-token\" fill=\"currentColor\" text-anchor=\"middle\" y=\"397.0\">\n",
       "    <tspan class=\"displacy-word\" fill=\"currentColor\" x=\"2500\">\n",
       "</tspan>\n",
       "    <tspan class=\"displacy-tag\" dy=\"2em\" fill=\"currentColor\" x=\"2500\">SPACE</tspan>\n",
       "</text>\n",
       "\n",
       "<text class=\"displacy-token\" fill=\"currentColor\" text-anchor=\"middle\" y=\"397.0\">\n",
       "    <tspan class=\"displacy-word\" fill=\"currentColor\" x=\"2675\">very</tspan>\n",
       "    <tspan class=\"displacy-tag\" dy=\"2em\" fill=\"currentColor\" x=\"2675\">ADV</tspan>\n",
       "</text>\n",
       "\n",
       "<text class=\"displacy-token\" fill=\"currentColor\" text-anchor=\"middle\" y=\"397.0\">\n",
       "    <tspan class=\"displacy-word\" fill=\"currentColor\" x=\"2850\">big</tspan>\n",
       "    <tspan class=\"displacy-tag\" dy=\"2em\" fill=\"currentColor\" x=\"2850\">ADJ</tspan>\n",
       "</text>\n",
       "\n",
       "<text class=\"displacy-token\" fill=\"currentColor\" text-anchor=\"middle\" y=\"397.0\">\n",
       "    <tspan class=\"displacy-word\" fill=\"currentColor\" x=\"3025\">fir-</tspan>\n",
       "    <tspan class=\"displacy-tag\" dy=\"2em\" fill=\"currentColor\" x=\"3025\">NOUN</tspan>\n",
       "</text>\n",
       "\n",
       "<text class=\"displacy-token\" fill=\"currentColor\" text-anchor=\"middle\" y=\"397.0\">\n",
       "    <tspan class=\"displacy-word\" fill=\"currentColor\" x=\"3200\">tree.</tspan>\n",
       "    <tspan class=\"displacy-tag\" dy=\"2em\" fill=\"currentColor\" x=\"3200\">PUNCT</tspan>\n",
       "</text>\n",
       "\n",
       "<text class=\"displacy-token\" fill=\"currentColor\" text-anchor=\"middle\" y=\"397.0\">\n",
       "    <tspan class=\"displacy-word\" fill=\"currentColor\" x=\"3375\">\n",
       "\n",
       "</tspan>\n",
       "    <tspan class=\"displacy-tag\" dy=\"2em\" fill=\"currentColor\" x=\"3375\">SPACE</tspan>\n",
       "</text>\n",
       "\n",
       "<g class=\"displacy-arrow\">\n",
       "    <path class=\"displacy-arc\" id=\"arrow-be704581da574e7395961100f967c2a7-0-0\" stroke-width=\"2px\" d=\"M70,352.0 C70,264.5 210.0,264.5 210.0,352.0\" fill=\"none\" stroke=\"currentColor\"/>\n",
       "    <text dy=\"1.25em\" style=\"font-size: 0.8em; letter-spacing: 1px\">\n",
       "        <textPath xlink:href=\"#arrow-be704581da574e7395961100f967c2a7-0-0\" class=\"displacy-label\" startOffset=\"50%\" side=\"left\" fill=\"currentColor\" text-anchor=\"middle\">nsubj</textPath>\n",
       "    </text>\n",
       "    <path class=\"displacy-arrowhead\" d=\"M70,354.0 L62,342.0 78,342.0\" fill=\"currentColor\"/>\n",
       "</g>\n",
       "\n",
       "<g class=\"displacy-arrow\">\n",
       "    <path class=\"displacy-arc\" id=\"arrow-be704581da574e7395961100f967c2a7-0-1\" stroke-width=\"2px\" d=\"M245,352.0 C245,264.5 385.0,264.5 385.0,352.0\" fill=\"none\" stroke=\"currentColor\"/>\n",
       "    <text dy=\"1.25em\" style=\"font-size: 0.8em; letter-spacing: 1px\">\n",
       "        <textPath xlink:href=\"#arrow-be704581da574e7395961100f967c2a7-0-1\" class=\"displacy-label\" startOffset=\"50%\" side=\"left\" fill=\"currentColor\" text-anchor=\"middle\">prep</textPath>\n",
       "    </text>\n",
       "    <path class=\"displacy-arrowhead\" d=\"M385.0,354.0 L393.0,342.0 377.0,342.0\" fill=\"currentColor\"/>\n",
       "</g>\n",
       "\n",
       "<g class=\"displacy-arrow\">\n",
       "    <path class=\"displacy-arc\" id=\"arrow-be704581da574e7395961100f967c2a7-0-2\" stroke-width=\"2px\" d=\"M595,352.0 C595,264.5 735.0,264.5 735.0,352.0\" fill=\"none\" stroke=\"currentColor\"/>\n",
       "    <text dy=\"1.25em\" style=\"font-size: 0.8em; letter-spacing: 1px\">\n",
       "        <textPath xlink:href=\"#arrow-be704581da574e7395961100f967c2a7-0-2\" class=\"displacy-label\" startOffset=\"50%\" side=\"left\" fill=\"currentColor\" text-anchor=\"middle\">poss</textPath>\n",
       "    </text>\n",
       "    <path class=\"displacy-arrowhead\" d=\"M595,354.0 L587,342.0 603,342.0\" fill=\"currentColor\"/>\n",
       "</g>\n",
       "\n",
       "<g class=\"displacy-arrow\">\n",
       "    <path class=\"displacy-arc\" id=\"arrow-be704581da574e7395961100f967c2a7-0-3\" stroke-width=\"2px\" d=\"M420,352.0 C420,177.0 740.0,177.0 740.0,352.0\" fill=\"none\" stroke=\"currentColor\"/>\n",
       "    <text dy=\"1.25em\" style=\"font-size: 0.8em; letter-spacing: 1px\">\n",
       "        <textPath xlink:href=\"#arrow-be704581da574e7395961100f967c2a7-0-3\" class=\"displacy-label\" startOffset=\"50%\" side=\"left\" fill=\"currentColor\" text-anchor=\"middle\">pobj</textPath>\n",
       "    </text>\n",
       "    <path class=\"displacy-arrowhead\" d=\"M740.0,354.0 L748.0,342.0 732.0,342.0\" fill=\"currentColor\"/>\n",
       "</g>\n",
       "\n",
       "<g class=\"displacy-arrow\">\n",
       "    <path class=\"displacy-arc\" id=\"arrow-be704581da574e7395961100f967c2a7-0-4\" stroke-width=\"2px\" d=\"M245,352.0 C245,89.5 920.0,89.5 920.0,352.0\" fill=\"none\" stroke=\"currentColor\"/>\n",
       "    <text dy=\"1.25em\" style=\"font-size: 0.8em; letter-spacing: 1px\">\n",
       "        <textPath xlink:href=\"#arrow-be704581da574e7395961100f967c2a7-0-4\" class=\"displacy-label\" startOffset=\"50%\" side=\"left\" fill=\"currentColor\" text-anchor=\"middle\">prep</textPath>\n",
       "    </text>\n",
       "    <path class=\"displacy-arrowhead\" d=\"M920.0,354.0 L928.0,342.0 912.0,342.0\" fill=\"currentColor\"/>\n",
       "</g>\n",
       "\n",
       "<g class=\"displacy-arrow\">\n",
       "    <path class=\"displacy-arc\" id=\"arrow-be704581da574e7395961100f967c2a7-0-5\" stroke-width=\"2px\" d=\"M1120,352.0 C1120,177.0 1440.0,177.0 1440.0,352.0\" fill=\"none\" stroke=\"currentColor\"/>\n",
       "    <text dy=\"1.25em\" style=\"font-size: 0.8em; letter-spacing: 1px\">\n",
       "        <textPath xlink:href=\"#arrow-be704581da574e7395961100f967c2a7-0-5\" class=\"displacy-label\" startOffset=\"50%\" side=\"left\" fill=\"currentColor\" text-anchor=\"middle\">det</textPath>\n",
       "    </text>\n",
       "    <path class=\"displacy-arrowhead\" d=\"M1120,354.0 L1112,342.0 1128,342.0\" fill=\"currentColor\"/>\n",
       "</g>\n",
       "\n",
       "<g class=\"displacy-arrow\">\n",
       "    <path class=\"displacy-arc\" id=\"arrow-be704581da574e7395961100f967c2a7-0-6\" stroke-width=\"2px\" d=\"M1295,352.0 C1295,264.5 1435.0,264.5 1435.0,352.0\" fill=\"none\" stroke=\"currentColor\"/>\n",
       "    <text dy=\"1.25em\" style=\"font-size: 0.8em; letter-spacing: 1px\">\n",
       "        <textPath xlink:href=\"#arrow-be704581da574e7395961100f967c2a7-0-6\" class=\"displacy-label\" startOffset=\"50%\" side=\"left\" fill=\"currentColor\" text-anchor=\"middle\">compound</textPath>\n",
       "    </text>\n",
       "    <path class=\"displacy-arrowhead\" d=\"M1295,354.0 L1287,342.0 1303,342.0\" fill=\"currentColor\"/>\n",
       "</g>\n",
       "\n",
       "<g class=\"displacy-arrow\">\n",
       "    <path class=\"displacy-arc\" id=\"arrow-be704581da574e7395961100f967c2a7-0-7\" stroke-width=\"2px\" d=\"M945,352.0 C945,89.5 1445.0,89.5 1445.0,352.0\" fill=\"none\" stroke=\"currentColor\"/>\n",
       "    <text dy=\"1.25em\" style=\"font-size: 0.8em; letter-spacing: 1px\">\n",
       "        <textPath xlink:href=\"#arrow-be704581da574e7395961100f967c2a7-0-7\" class=\"displacy-label\" startOffset=\"50%\" side=\"left\" fill=\"currentColor\" text-anchor=\"middle\">pobj</textPath>\n",
       "    </text>\n",
       "    <path class=\"displacy-arrowhead\" d=\"M1445.0,354.0 L1453.0,342.0 1437.0,342.0\" fill=\"currentColor\"/>\n",
       "</g>\n",
       "\n",
       "<g class=\"displacy-arrow\">\n",
       "    <path class=\"displacy-arc\" id=\"arrow-be704581da574e7395961100f967c2a7-0-8\" stroke-width=\"2px\" d=\"M1470,352.0 C1470,264.5 1610.0,264.5 1610.0,352.0\" fill=\"none\" stroke=\"currentColor\"/>\n",
       "    <text dy=\"1.25em\" style=\"font-size: 0.8em; letter-spacing: 1px\">\n",
       "        <textPath xlink:href=\"#arrow-be704581da574e7395961100f967c2a7-0-8\" class=\"displacy-label\" startOffset=\"50%\" side=\"left\" fill=\"currentColor\" text-anchor=\"middle\">prep</textPath>\n",
       "    </text>\n",
       "    <path class=\"displacy-arrowhead\" d=\"M1610.0,354.0 L1618.0,342.0 1602.0,342.0\" fill=\"currentColor\"/>\n",
       "</g>\n",
       "\n",
       "<g class=\"displacy-arrow\">\n",
       "    <path class=\"displacy-arc\" id=\"arrow-be704581da574e7395961100f967c2a7-0-9\" stroke-width=\"2px\" d=\"M1820,352.0 C1820,264.5 1960.0,264.5 1960.0,352.0\" fill=\"none\" stroke=\"currentColor\"/>\n",
       "    <text dy=\"1.25em\" style=\"font-size: 0.8em; letter-spacing: 1px\">\n",
       "        <textPath xlink:href=\"#arrow-be704581da574e7395961100f967c2a7-0-9\" class=\"displacy-label\" startOffset=\"50%\" side=\"left\" fill=\"currentColor\" text-anchor=\"middle\">det</textPath>\n",
       "    </text>\n",
       "    <path class=\"displacy-arrowhead\" d=\"M1820,354.0 L1812,342.0 1828,342.0\" fill=\"currentColor\"/>\n",
       "</g>\n",
       "\n",
       "<g class=\"displacy-arrow\">\n",
       "    <path class=\"displacy-arc\" id=\"arrow-be704581da574e7395961100f967c2a7-0-10\" stroke-width=\"2px\" d=\"M1645,352.0 C1645,177.0 1965.0,177.0 1965.0,352.0\" fill=\"none\" stroke=\"currentColor\"/>\n",
       "    <text dy=\"1.25em\" style=\"font-size: 0.8em; letter-spacing: 1px\">\n",
       "        <textPath xlink:href=\"#arrow-be704581da574e7395961100f967c2a7-0-10\" class=\"displacy-label\" startOffset=\"50%\" side=\"left\" fill=\"currentColor\" text-anchor=\"middle\">pobj</textPath>\n",
       "    </text>\n",
       "    <path class=\"displacy-arrowhead\" d=\"M1965.0,354.0 L1973.0,342.0 1957.0,342.0\" fill=\"currentColor\"/>\n",
       "</g>\n",
       "\n",
       "<g class=\"displacy-arrow\">\n",
       "    <path class=\"displacy-arc\" id=\"arrow-be704581da574e7395961100f967c2a7-0-11\" stroke-width=\"2px\" d=\"M1995,352.0 C1995,264.5 2135.0,264.5 2135.0,352.0\" fill=\"none\" stroke=\"currentColor\"/>\n",
       "    <text dy=\"1.25em\" style=\"font-size: 0.8em; letter-spacing: 1px\">\n",
       "        <textPath xlink:href=\"#arrow-be704581da574e7395961100f967c2a7-0-11\" class=\"displacy-label\" startOffset=\"50%\" side=\"left\" fill=\"currentColor\" text-anchor=\"middle\">prep</textPath>\n",
       "    </text>\n",
       "    <path class=\"displacy-arrowhead\" d=\"M2135.0,354.0 L2143.0,342.0 2127.0,342.0\" fill=\"currentColor\"/>\n",
       "</g>\n",
       "\n",
       "<g class=\"displacy-arrow\">\n",
       "    <path class=\"displacy-arc\" id=\"arrow-be704581da574e7395961100f967c2a7-0-12\" stroke-width=\"2px\" d=\"M2345,352.0 C2345,89.5 3195.0,89.5 3195.0,352.0\" fill=\"none\" stroke=\"currentColor\"/>\n",
       "    <text dy=\"1.25em\" style=\"font-size: 0.8em; letter-spacing: 1px\">\n",
       "        <textPath xlink:href=\"#arrow-be704581da574e7395961100f967c2a7-0-12\" class=\"displacy-label\" startOffset=\"50%\" side=\"left\" fill=\"currentColor\" text-anchor=\"middle\">det</textPath>\n",
       "    </text>\n",
       "    <path class=\"displacy-arrowhead\" d=\"M2345,354.0 L2337,342.0 2353,342.0\" fill=\"currentColor\"/>\n",
       "</g>\n",
       "\n",
       "<g class=\"displacy-arrow\">\n",
       "    <path class=\"displacy-arc\" id=\"arrow-be704581da574e7395961100f967c2a7-0-13\" stroke-width=\"2px\" d=\"M2345,352.0 C2345,264.5 2485.0,264.5 2485.0,352.0\" fill=\"none\" stroke=\"currentColor\"/>\n",
       "    <text dy=\"1.25em\" style=\"font-size: 0.8em; letter-spacing: 1px\">\n",
       "        <textPath xlink:href=\"#arrow-be704581da574e7395961100f967c2a7-0-13\" class=\"displacy-label\" startOffset=\"50%\" side=\"left\" fill=\"currentColor\" text-anchor=\"middle\">dep</textPath>\n",
       "    </text>\n",
       "    <path class=\"displacy-arrowhead\" d=\"M2485.0,354.0 L2493.0,342.0 2477.0,342.0\" fill=\"currentColor\"/>\n",
       "</g>\n",
       "\n",
       "<g class=\"displacy-arrow\">\n",
       "    <path class=\"displacy-arc\" id=\"arrow-be704581da574e7395961100f967c2a7-0-14\" stroke-width=\"2px\" d=\"M2695,352.0 C2695,264.5 2835.0,264.5 2835.0,352.0\" fill=\"none\" stroke=\"currentColor\"/>\n",
       "    <text dy=\"1.25em\" style=\"font-size: 0.8em; letter-spacing: 1px\">\n",
       "        <textPath xlink:href=\"#arrow-be704581da574e7395961100f967c2a7-0-14\" class=\"displacy-label\" startOffset=\"50%\" side=\"left\" fill=\"currentColor\" text-anchor=\"middle\">advmod</textPath>\n",
       "    </text>\n",
       "    <path class=\"displacy-arrowhead\" d=\"M2695,354.0 L2687,342.0 2703,342.0\" fill=\"currentColor\"/>\n",
       "</g>\n",
       "\n",
       "<g class=\"displacy-arrow\">\n",
       "    <path class=\"displacy-arc\" id=\"arrow-be704581da574e7395961100f967c2a7-0-15\" stroke-width=\"2px\" d=\"M2870,352.0 C2870,177.0 3190.0,177.0 3190.0,352.0\" fill=\"none\" stroke=\"currentColor\"/>\n",
       "    <text dy=\"1.25em\" style=\"font-size: 0.8em; letter-spacing: 1px\">\n",
       "        <textPath xlink:href=\"#arrow-be704581da574e7395961100f967c2a7-0-15\" class=\"displacy-label\" startOffset=\"50%\" side=\"left\" fill=\"currentColor\" text-anchor=\"middle\">amod</textPath>\n",
       "    </text>\n",
       "    <path class=\"displacy-arrowhead\" d=\"M2870,354.0 L2862,342.0 2878,342.0\" fill=\"currentColor\"/>\n",
       "</g>\n",
       "\n",
       "<g class=\"displacy-arrow\">\n",
       "    <path class=\"displacy-arc\" id=\"arrow-be704581da574e7395961100f967c2a7-0-16\" stroke-width=\"2px\" d=\"M3045,352.0 C3045,264.5 3185.0,264.5 3185.0,352.0\" fill=\"none\" stroke=\"currentColor\"/>\n",
       "    <text dy=\"1.25em\" style=\"font-size: 0.8em; letter-spacing: 1px\">\n",
       "        <textPath xlink:href=\"#arrow-be704581da574e7395961100f967c2a7-0-16\" class=\"displacy-label\" startOffset=\"50%\" side=\"left\" fill=\"currentColor\" text-anchor=\"middle\">compound</textPath>\n",
       "    </text>\n",
       "    <path class=\"displacy-arrowhead\" d=\"M3045,354.0 L3037,342.0 3053,342.0\" fill=\"currentColor\"/>\n",
       "</g>\n",
       "\n",
       "<g class=\"displacy-arrow\">\n",
       "    <path class=\"displacy-arc\" id=\"arrow-be704581da574e7395961100f967c2a7-0-17\" stroke-width=\"2px\" d=\"M245,352.0 C245,2.0 3200.0,2.0 3200.0,352.0\" fill=\"none\" stroke=\"currentColor\"/>\n",
       "    <text dy=\"1.25em\" style=\"font-size: 0.8em; letter-spacing: 1px\">\n",
       "        <textPath xlink:href=\"#arrow-be704581da574e7395961100f967c2a7-0-17\" class=\"displacy-label\" startOffset=\"50%\" side=\"left\" fill=\"currentColor\" text-anchor=\"middle\">punct</textPath>\n",
       "    </text>\n",
       "    <path class=\"displacy-arrowhead\" d=\"M3200.0,354.0 L3208.0,342.0 3192.0,342.0\" fill=\"currentColor\"/>\n",
       "</g>\n",
       "\n",
       "<g class=\"displacy-arrow\">\n",
       "    <path class=\"displacy-arc\" id=\"arrow-be704581da574e7395961100f967c2a7-0-18\" stroke-width=\"2px\" d=\"M3220,352.0 C3220,264.5 3360.0,264.5 3360.0,352.0\" fill=\"none\" stroke=\"currentColor\"/>\n",
       "    <text dy=\"1.25em\" style=\"font-size: 0.8em; letter-spacing: 1px\">\n",
       "        <textPath xlink:href=\"#arrow-be704581da574e7395961100f967c2a7-0-18\" class=\"displacy-label\" startOffset=\"50%\" side=\"left\" fill=\"currentColor\" text-anchor=\"middle\">dep</textPath>\n",
       "    </text>\n",
       "    <path class=\"displacy-arrowhead\" d=\"M3360.0,354.0 L3368.0,342.0 3352.0,342.0\" fill=\"currentColor\"/>\n",
       "</g>\n",
       "</svg></span>"
      ],
      "text/plain": [
       "<IPython.core.display.HTML object>"
      ]
     },
     "metadata": {},
     "output_type": "display_data"
    }
   ],
   "source": [
    "# Importing the displaCy module from SpaCy for dependency visualization\n",
    "import spacy.displacy as displacy\n",
    "\n",
    "# Rendering dependency parse visualization for the third sentence in a Jupyter Notebook\n",
    "displacy.render(third_sentence, style='dep', jupyter=True)"
   ]
  },
  {
   "cell_type": "markdown",
   "id": "267769c3-3f66-4085-a8f3-c3774bbcae8a",
   "metadata": {
    "id": "267769c3-3f66-4085-a8f3-c3774bbcae8a"
   },
   "source": [
    "# 6. Show the first two named entities from Beatrix Potter's The Tale of Peter Rabbit."
   ]
  },
  {
   "cell_type": "code",
   "execution_count": null,
   "id": "143c4d72-39e9-471b-9815-b96f2f660751",
   "metadata": {
    "id": "143c4d72-39e9-471b-9815-b96f2f660751",
    "outputId": "af2e4343-f502-42d7-9a26-46370bd961ee"
   },
   "outputs": [
    {
     "name": "stdout",
     "output_type": "stream",
     "text": [
      "First Two Named Entities:\n",
      "The Tale of Peter Rabbit (WORK_OF_ART)\n",
      "Beatrix Potter (PERSON)\n"
     ]
    }
   ],
   "source": [
    "# Extracting the first two named entities from the document\n",
    "print(\"First Two Named Entities:\")\n",
    "for ent in doc.ents[:2]:\n",
    "    print(f\"{ent.text} ({ent.label_})\")"
   ]
  },
  {
   "cell_type": "markdown",
   "id": "72735bd3-1d50-4b1a-bf40-08aefd6834a7",
   "metadata": {
    "id": "72735bd3-1d50-4b1a-bf40-08aefd6834a7"
   },
   "source": [
    "# 7. How many sentences are contained in The Tale of Peter Rabbit."
   ]
  },
  {
   "cell_type": "code",
   "execution_count": null,
   "id": "df8e471e-b283-4014-8bad-bded8d06ad03",
   "metadata": {
    "id": "df8e471e-b283-4014-8bad-bded8d06ad03",
    "outputId": "35dc21db-544f-4b1e-b1ca-1a9c8014ceeb"
   },
   "outputs": [
    {
     "name": "stdout",
     "output_type": "stream",
     "text": [
      "number of sentences: 57\n"
     ]
    }
   ],
   "source": [
    "# Counting the total number of sentences in the document\n",
    "num_sentences = len(list(doc.sents))\n",
    "\n",
    "# Printing the result\n",
    "print(f\"number of sentences: {num_sentences}\")"
   ]
  },
  {
   "cell_type": "markdown",
   "id": "dff7ac79-e462-42f5-916b-58287825d236",
   "metadata": {
    "id": "dff7ac79-e462-42f5-916b-58287825d236"
   },
   "source": [
    "# 8. CHALLENGE: How many sentences contain named entities."
   ]
  },
  {
   "cell_type": "code",
   "execution_count": null,
   "id": "5b1b3b2d-f7ef-47b1-991b-f25aa53bd8f5",
   "metadata": {
    "id": "5b1b3b2d-f7ef-47b1-991b-f25aa53bd8f5",
    "outputId": "1afe6e55-dfc3-4ad5-dbb0-4b28eceaad32"
   },
   "outputs": [
    {
     "name": "stdout",
     "output_type": "stream",
     "text": [
      "Number of sentences containing named entities: 38\n"
     ]
    }
   ],
   "source": [
    "# Counting sentences that contain at least one named entity\n",
    "sentences_with_ents = sum(1 for sent in doc.sents if any(token.ent_type_ for token in sent))\n",
    "\n",
    "# Printing the result\n",
    "print(f\"Number of sentences containing named entities: {sentences_with_ents}\")"
   ]
  },
  {
   "cell_type": "markdown",
   "id": "18e8da32-2346-4852-8d95-8a5a13a359d2",
   "metadata": {
    "id": "18e8da32-2346-4852-8d95-8a5a13a359d2"
   },
   "source": [
    "# 9. Display the named entity visualization for list_of_sents[0] from the previous problem."
   ]
  },
  {
   "cell_type": "code",
   "execution_count": null,
   "id": "45e4947f-7494-4e89-aff9-d806765c9adb",
   "metadata": {
    "id": "45e4947f-7494-4e89-aff9-d806765c9adb",
    "outputId": "d2ab899f-a622-4db1-8afc-7f00064ffcb6"
   },
   "outputs": [
    {
     "data": {
      "text/html": [
       "<span class=\"tex2jax_ignore\"><div class=\"entities\" style=\"line-height: 2.5; direction: ltr\">\n",
       "<mark class=\"entity\" style=\"background: #f0d0ff; padding: 0.45em 0.6em; margin: 0 0.25em; line-height: 1; border-radius: 0.35em;\">\n",
       "    The Tale of Peter Rabbit\n",
       "    <span style=\"font-size: 0.8em; font-weight: bold; line-height: 1; border-radius: 0.35em; vertical-align: middle; margin-left: 0.5rem\">WORK_OF_ART</span>\n",
       "</mark>\n",
       ", by \n",
       "<mark class=\"entity\" style=\"background: #aa9cfc; padding: 0.45em 0.6em; margin: 0 0.25em; line-height: 1; border-radius: 0.35em;\">\n",
       "    Beatrix Potter\n",
       "    <span style=\"font-size: 0.8em; font-weight: bold; line-height: 1; border-radius: 0.35em; vertical-align: middle; margin-left: 0.5rem\">PERSON</span>\n",
       "</mark>\n",
       " (\n",
       "<mark class=\"entity\" style=\"background: #bfe1d9; padding: 0.45em 0.6em; margin: 0 0.25em; line-height: 1; border-radius: 0.35em;\">\n",
       "    1902\n",
       "    <span style=\"font-size: 0.8em; font-weight: bold; line-height: 1; border-radius: 0.35em; vertical-align: middle; margin-left: 0.5rem\">DATE</span>\n",
       "</mark>\n",
       ").<br><br></div></span>"
      ],
      "text/plain": [
       "<IPython.core.display.HTML object>"
      ]
     },
     "metadata": {},
     "output_type": "display_data"
    }
   ],
   "source": [
    "# Selecting the first sentence from the document\n",
    "first_sentence = list(doc.sents)[0]\n",
    "\n",
    "# Rendering named entity visualization for the first sentence in a Jupyter Notebook\n",
    "displacy.render(first_sentence, style='ent', jupyter=True)"
   ]
  },
  {
   "cell_type": "code",
   "execution_count": null,
   "id": "6ed7ec45-1a18-4f07-bf64-44f6672a2011",
   "metadata": {
    "id": "6ed7ec45-1a18-4f07-bf64-44f6672a2011"
   },
   "outputs": [],
   "source": []
  }
 ],
 "metadata": {
  "colab": {
   "provenance": []
  },
  "kernelspec": {
   "display_name": "Python 3 (ipykernel)",
   "language": "python",
   "name": "python3"
  },
  "language_info": {
   "codemirror_mode": {
    "name": "ipython",
    "version": 3
   },
   "file_extension": ".py",
   "mimetype": "text/x-python",
   "name": "python",
   "nbconvert_exporter": "python",
   "pygments_lexer": "ipython3",
   "version": "3.12.4"
  }
 },
 "nbformat": 4,
 "nbformat_minor": 5
}
