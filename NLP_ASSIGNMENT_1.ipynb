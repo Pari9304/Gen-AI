{
  "nbformat": 4,
  "nbformat_minor": 0,
  "metadata": {
    "colab": {
      "private_outputs": true,
      "provenance": []
    },
    "kernelspec": {
      "name": "python3",
      "display_name": "Python 3"
    },
    "language_info": {
      "name": "python"
    }
  },
  "cells": [
    {
      "cell_type": "code",
      "execution_count": null,
      "metadata": {
        "id": "36af1b92-35ad-479b-9f18-991671924ba5"
      },
      "outputs": [],
      "source": [
        "#1.Print an f-string that displays NLP stands for Natural Language Processing using the variables provided."
      ]
    },
    {
      "cell_type": "code",
      "source": [
        "word = \"NLP\"\n",
        "full_form = \"Natural Language Processing\"\n",
        "print(f\"{word} stands for {full_form}\")"
      ],
      "metadata": {
        "id": "Xg_K8rmi5_jO"
      },
      "execution_count": null,
      "outputs": []
    },
    {
      "cell_type": "code",
      "source": [
        "#2.Create a file in the current working directory called contacts.txt by running the cell below."
      ],
      "metadata": {
        "id": "M0n4VUoY6EXS"
      },
      "execution_count": null,
      "outputs": []
    },
    {
      "cell_type": "code",
      "source": [
        "with open('contacts.txt', 'w') as file:\n",
        "    pass\n",
        "\n",
        "print(\"File 'contacts.txt' created successfully.\")"
      ],
      "metadata": {
        "id": "mpvAtaaD6J_t"
      },
      "execution_count": null,
      "outputs": []
    },
    {
      "cell_type": "code",
      "source": [
        "#3.Open the file and use .read() to save the contents of the file to a string called fields. Make sure the file is closed at the end."
      ],
      "metadata": {
        "id": "rgXkXS7F6PIf"
      },
      "execution_count": null,
      "outputs": []
    },
    {
      "cell_type": "code",
      "source": [
        "with open(\"contacts.txt\", \"r\") as f:\n",
        "    fields = f.read()\n",
        "print(fields)"
      ],
      "metadata": {
        "id": "J-muSsfc6UNJ"
      },
      "execution_count": null,
      "outputs": []
    },
    {
      "cell_type": "code",
      "source": [
        "# Open the file, read its contents, and close it automatically\n",
        "with open('contacts.txt', 'r') as file:\n",
        "    fields = file.read()  # Save contents to the variable `fields`\n",
        "\n",
        "print(\"File contents saved to 'fields'.\")\n",
        "print(fields)  # Display the contents (will be empty if the file is new)"
      ],
      "metadata": {
        "id": "rv3ejy__70_n"
      },
      "execution_count": null,
      "outputs": []
    },
    {
      "cell_type": "code",
      "source": [
        "#4.Use PyPDF2 to open the file Business_Proposal.pdf. Extract the text of page 2."
      ],
      "metadata": {
        "id": "YoXCsV-C77NC"
      },
      "execution_count": null,
      "outputs": []
    },
    {
      "cell_type": "code",
      "source": [
        "pip install PyPDF2"
      ],
      "metadata": {
        "id": "RnnXJSXB7_X9"
      },
      "execution_count": null,
      "outputs": []
    },
    {
      "cell_type": "code",
      "source": [
        "import PyPDF2\n",
        "\n",
        "pdfFile = open('/content/Business_Proposal.pdf', 'rb')\n",
        "pdfReader = PyPDF2.PdfReader(pdfFile)\n",
        "pageObj = pdfReader.pages[1]\n",
        "page_two_text = pageObj.extract_text()\n",
        "print(page_two_text)\n",
        "\n",
        "page_two_text = pageObj.extract_text()\n",
        "print(page_two_text)"
      ],
      "metadata": {
        "id": "ixGEEpcV8Gs2"
      },
      "execution_count": null,
      "outputs": []
    },
    {
      "cell_type": "code",
      "source": [
        "f.close()"
      ],
      "metadata": {
        "id": "FoywleRn88b3"
      },
      "execution_count": null,
      "outputs": []
    },
    {
      "cell_type": "code",
      "source": [
        "#5.Open the file contacts.txt in append mode. Add the text of page 2 from above to contacts.txt."
      ],
      "metadata": {
        "id": "AIvZnwKv9AAI"
      },
      "execution_count": null,
      "outputs": []
    },
    {
      "cell_type": "code",
      "source": [
        "with open(\"contacts.txt\", \"a+\") as k: #open the file with append and read permissions\n",
        "    k.write(page_two_text)\n",
        "    k.seek(0)\n",
        "    print(k.read()) #print the contents of the file."
      ],
      "metadata": {
        "id": "yvxFdpGp9GCM"
      },
      "execution_count": null,
      "outputs": []
    },
    {
      "cell_type": "code",
      "source": [
        "#6. Using the page_two_text variable created above, extract any email addresses that were contained in the file Business_Proposal.pdf."
      ],
      "metadata": {
        "id": "v-K4pmQ19LGd"
      },
      "execution_count": null,
      "outputs": []
    },
    {
      "cell_type": "code",
      "source": [
        "import re\n",
        "\n",
        "Email_list = r'\\w+@\\w+.\\w{3}'\n",
        "\n",
        "re.search(Email_list, page_two_text)"
      ],
      "metadata": {
        "id": "cXZYgluJ9Rid"
      },
      "execution_count": null,
      "outputs": []
    }
  ]
}